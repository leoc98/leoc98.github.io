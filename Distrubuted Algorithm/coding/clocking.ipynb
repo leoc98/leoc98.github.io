{
 "cells": [
  {
   "cell_type": "code",
   "execution_count": null,
   "metadata": {},
   "outputs": [],
   "source": [
    "class Node:\n",
    "    def __init__(self, name,process, index) -> None:\n",
    "        self.name = name\n",
    "        self.pre = []\n",
    "        self.clock = -1\n",
    "        if \"r\" in name:\n",
    "            self.pre.append(f\"s{self.name[1:]}\")\n",
    "        if index > 0:\n",
    "            self.pre.append(process[index - 1 ])\n",
    "        pass\n",
    "\n",
    "    def __eq__(self, n):\n",
    "        if type(n) == type(self):\n",
    "            return n.name == self.name\n",
    "        else:\n",
    "            return self.name == n"
   ]
  },
  {
   "cell_type": "code",
   "execution_count": null,
   "metadata": {},
   "outputs": [],
   "source": [
    "def lamportClock(problem:dict):\n",
    "    nodes = {}\n",
    "    for _, lst in problem:\n",
    "        for evt, i in enumerate(lst):\n",
    "            nodes.insert(Node(evt, lst, i))\n",
    "    \n",
    "    explored = {}\n",
    "    update = -1\n",
    "    while len(nodes) > 0 and not update == len(explored):\n",
    "        update = len(explored)\n",
    "        for node in nodes:\n",
    "            if len(node.pre) == 0:\n",
    "                node.clock = 1\n",
    "                explored.insert(node)\n",
    "            elif \n",
    "\n"
   ]
  },
  {
   "cell_type": "code",
   "execution_count": null,
   "metadata": {},
   "outputs": [],
   "source": []
  }
 ],
 "metadata": {
  "language_info": {
   "name": "python"
  }
 },
 "nbformat": 4,
 "nbformat_minor": 2
}
